{
  "nbformat": 4,
  "nbformat_minor": 0,
  "metadata": {
    "colab": {
      "name": "RCN50.ipynb",
      "provenance": [],
      "collapsed_sections": [],
      "authorship_tag": "ABX9TyNAa3+FYqIIdr0RfTKSURSH"
    },
    "kernelspec": {
      "name": "python3",
      "display_name": "Python 3"
    },
    "accelerator": "GPU"
  },
  "cells": [
    {
      "cell_type": "code",
      "metadata": {
        "id": "mWLrT3l6kLuJ"
      },
      "source": [
        "!pip install pyyaml==5.1\r\n",
        "import torch, torchvision\r\n",
        "print(torch.__version__, torch.cuda.is_available())\r\n",
        "!gcc --version"
      ],
      "execution_count": null,
      "outputs": []
    },
    {
      "cell_type": "code",
      "metadata": {
        "id": "L7Zi6VkVk3nY"
      },
      "source": [
        "import torch\r\n",
        "assert torch.__version__.startswith(\"1.7\")\r\n",
        "!pip install detectron2 -f https://dl.fbaipublicfiles.com/detectron2/wheels/cu101/torch1.7/index.html"
      ],
      "execution_count": null,
      "outputs": []
    },
    {
      "cell_type": "code",
      "metadata": {
        "id": "dGN8wI8Jk7Ka"
      },
      "source": [
        "import detectron2\r\n",
        "from detectron2.utils.logger import setup_logger\r\n",
        "setup_logger()\r\n",
        "\r\n",
        "# import some common libraries\r\n",
        "import numpy as np\r\n",
        "import os, json, cv2, random\r\n",
        "from google.colab.patches import cv2_imshow\r\n",
        "\r\n",
        "# import some common detectron2 utilities\r\n",
        "from detectron2 import model_zoo\r\n",
        "from detectron2.engine import DefaultPredictor\r\n",
        "from detectron2.config import get_cfg\r\n",
        "from detectron2.utils.visualizer import Visualizer\r\n",
        "from detectron2.data import MetadataCatalog, DatasetCatalog"
      ],
      "execution_count": null,
      "outputs": []
    },
    {
      "cell_type": "code",
      "metadata": {
        "id": "tqlSfmamlMsz"
      },
      "source": [
        "from google.colab import drive\n",
        "drive.mount('/content/drive')"
      ],
      "execution_count": null,
      "outputs": []
    },
    {
      "cell_type": "code",
      "metadata": {
        "id": "uonR1FrClAq2"
      },
      "source": [
        "from detectron2.data.datasets import register_coco_instances\r\n",
        "register_coco_instances(\"trainDS\", {}, \"/content/drive/MyDrive/COCO/train.json\", \"/content/drive/MyDrive/dataset1000/train\")\r\n",
        "register_coco_instances(\"valDS\", {}, \"/content/drive/MyDrive/COCO/val.json\", \"/content/drive/MyDrive/dataset1000/val\")\r\n"
      ],
      "execution_count": null,
      "outputs": []
    },
    {
      "cell_type": "code",
      "metadata": {
        "id": "84fOHfs6mDny"
      },
      "source": [
        "metadata = MetadataCatalog.get(\"trainDS\")"
      ],
      "execution_count": null,
      "outputs": []
    },
    {
      "cell_type": "code",
      "metadata": {
        "id": "T8m9D1lhmSDA"
      },
      "source": [
        "dataset_dicts = DatasetCatalog.get(\"trainDS\")"
      ],
      "execution_count": null,
      "outputs": []
    },
    {
      "cell_type": "code",
      "metadata": {
        "id": "kARx6oU5lb8I"
      },
      "source": [
        "import random\r\n",
        "from detectron2.utils.visualizer import Visualizer\r\n",
        "\r\n",
        "for d in random.sample(dataset_dicts, 3):\r\n",
        "    img = cv2.imread(d['file_name'])\r\n",
        "    visualizer = Visualizer(img[:, :, ::-1], metadata=metadata, scale=0.5)\r\n",
        "    vis = visualizer.draw_dataset_dict(d)\r\n",
        "    cv2_imshow(vis.get_image()[:, :, ::-1])"
      ],
      "execution_count": null,
      "outputs": []
    },
    {
      "cell_type": "code",
      "metadata": {
        "id": "jhjWFwRDluht"
      },
      "source": [
        "from detectron2.engine import DefaultTrainer\r\n",
        "from detectron2.config import get_cfg\r\n",
        "import os\r\n",
        "\r\n",
        "cfg = get_cfg()\r\n",
        "cfg.merge_from_file(\r\n",
        "    model_zoo.get_config_file(\"COCO-Detection/faster_rcnn_R_50_FPN_3x.yaml\")\r\n",
        ")\r\n",
        "cfg.DATASETS.TRAIN = (\"trainDS\",)\r\n",
        "cfg.DATASETS.TEST = (\"valDS\",)  # no metrics implemented for this dataset\r\n",
        "cfg.DATALOADER.NUM_WORKERS = 2\r\n",
        "cfg.MODEL.WEIGHTS = model_zoo.get_checkpoint_url(\"COCO-Detection/faster_rcnn_R_50_FPN_3x.yaml\")  # initialize from model zoo\r\n",
        "cfg.SOLVER.IMS_PER_BATCH = 2\r\n",
        "cfg.SOLVER.BASE_LR = 0.02\r\n",
        "cfg.SOLVER.MAX_ITER = (\r\n",
        "    800\r\n",
        ")  # 300 iterations seems good enough, but you can certainly train longer\r\n",
        "cfg.MODEL.ROI_HEADS.BATCH_SIZE_PER_IMAGE = (\r\n",
        "    128\r\n",
        ")  # faster, and good enough for this toy dataset\r\n",
        "cfg.MODEL.ROI_HEADS.NUM_CLASSES = 6  # 6 classes\r\n",
        "\r\n",
        "os.makedirs(cfg.OUTPUT_DIR, exist_ok=True)\r\n",
        "trainer = DefaultTrainer(cfg)\r\n",
        "trainer.resume_or_load(resume=False)\r\n",
        "trainer.train()"
      ],
      "execution_count": null,
      "outputs": []
    },
    {
      "cell_type": "code",
      "metadata": {
        "id": "al32X2svnBDQ"
      },
      "source": [
        "%reload_ext tensorboard\r\n",
        "%tensorboard --logdir output"
      ],
      "execution_count": null,
      "outputs": []
    },
    {
      "cell_type": "code",
      "metadata": {
        "id": "13WgDLZxv12r"
      },
      "source": [
        ""
      ],
      "execution_count": null,
      "outputs": []
    }
  ]
}