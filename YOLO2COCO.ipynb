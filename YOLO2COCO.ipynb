{
  "nbformat": 4,
  "nbformat_minor": 0,
  "metadata": {
    "colab": {
      "name": "YOLO2COCO.ipynb",
      "provenance": [],
      "collapsed_sections": [],
      "authorship_tag": "ABX9TyPdcaIu+5emzPaeFQF+gxc9"
    },
    "kernelspec": {
      "name": "python3",
      "display_name": "Python 3"
    }
  },
  "cells": [
    {
      "cell_type": "code",
      "metadata": {
        "id": "x-hgC-oc73AX"
      },
      "source": [
        "from google.colab import drive\r\n",
        "drive.mount(\"/content/drive\")"
      ],
      "execution_count": null,
      "outputs": []
    },
    {
      "cell_type": "code",
      "metadata": {
        "id": "Zz4oBFrx73zX"
      },
      "source": [
        "from pathlib import Path"
      ],
      "execution_count": null,
      "outputs": []
    },
    {
      "cell_type": "code",
      "metadata": {
        "id": "th5Fs-sl75Fg"
      },
      "source": [
        "dataset = Path('/content/drive/MyDrive/dataset1000')"
      ],
      "execution_count": null,
      "outputs": []
    },
    {
      "cell_type": "code",
      "metadata": {
        "id": "k84jBQkR7622"
      },
      "source": [
        "train = Path(dataset/ 'train')"
      ],
      "execution_count": null,
      "outputs": []
    },
    {
      "cell_type": "markdown",
      "metadata": {
        "id": "WL9ASwre_MGq"
      },
      "source": [
        "Splits the train folders inputs and outputs. Then sortes it"
      ]
    },
    {
      "cell_type": "code",
      "metadata": {
        "id": "oUQPHznz8M54"
      },
      "source": [
        "from natsort import natsorted\r\n",
        "import glob"
      ],
      "execution_count": null,
      "outputs": []
    },
    {
      "cell_type": "code",
      "metadata": {
        "id": "rFn1odn378fr"
      },
      "source": [
        "\r\n",
        "imgs =  natsorted(glob.glob(f'{train}/*.jpg'))\r\n",
        "anots = natsorted(glob.glob(f'{train}/*.txt'))"
      ],
      "execution_count": null,
      "outputs": []
    },
    {
      "cell_type": "code",
      "metadata": {
        "id": "y5ZSQDiF-r36"
      },
      "source": [
        "print(imgs)\r\n",
        "print(anots)"
      ],
      "execution_count": null,
      "outputs": []
    },
    {
      "cell_type": "code",
      "metadata": {
        "id": "vQEZVe1y_HJc"
      },
      "source": [
        "from PIL import Image\r\n",
        "im = Image.open(imgs[0])"
      ],
      "execution_count": null,
      "outputs": []
    },
    {
      "cell_type": "code",
      "metadata": {
        "id": "xDLedxNFhZt9"
      },
      "source": [
        "with open('/content/drive/MyDrive/train.txt', 'w') as file_handler:\r\n",
        "    for item in imgs:\r\n",
        "        file_handler.write(\"{}\\n\".format(item))\r\n",
        "        "
      ],
      "execution_count": null,
      "outputs": []
    },
    {
      "cell_type": "code",
      "metadata": {
        "id": "h5yUfNTtE9XT"
      },
      "source": [
        "!git clone https://github.com/Taeyoung96/Yolo-to-COCO-format-converter.git"
      ],
      "execution_count": null,
      "outputs": []
    },
    {
      "cell_type": "code",
      "metadata": {
        "id": "fPAvHbqYRWBY"
      },
      "source": [
        "!python main.py /content/drive/MyDrive/dataset1000/train --output coco"
      ],
      "execution_count": null,
      "outputs": []
    },
    {
      "cell_type": "code",
      "metadata": {
        "id": "R7tH17Z6RcbQ"
      },
      "source": [
        "%cd Yolo-to-COCO-format-converter/"
      ],
      "execution_count": null,
      "outputs": []
    },
    {
      "cell_type": "code",
      "metadata": {
        "id": "D61BEjzqRfC7"
      },
      "source": [
        "!python main.py --path /content/drive/MyDrive/train.txt --output coco"
      ],
      "execution_count": null,
      "outputs": []
    }
  ]
}